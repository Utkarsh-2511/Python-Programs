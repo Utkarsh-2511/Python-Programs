{
 "cells": [
  {
   "cell_type": "code",
   "execution_count": 6,
   "metadata": {},
   "outputs": [],
   "source": [
    " def lastindex(n,x):\n",
    "        l = len(n)\n",
    "        if l==0:\n",
    "            return -1\n",
    "        smalllist = n[1:]\n",
    "        smalloutput = lastindex(smalllist,x)\n",
    "        if smalloutput != -1:\n",
    "            return smalloutput +1\n",
    "        else:\n",
    "            if n[0]==x:\n",
    "                return 0\n",
    "            else:\n",
    "                return -1"
   ]
  },
  {
   "cell_type": "code",
   "execution_count": 8,
   "metadata": {},
   "outputs": [
    {
     "data": {
      "text/plain": [
       "-1"
      ]
     },
     "execution_count": 8,
     "metadata": {},
     "output_type": "execute_result"
    }
   ],
   "source": [
    "n= [2,4,5,67,7,88,99,99,99,96,4,4,44,4,43,3664,3,3]\n",
    "lastindex(n,1)"
   ]
  },
  {
   "cell_type": "code",
   "execution_count": null,
   "metadata": {},
   "outputs": [],
   "source": []
  }
 ],
 "metadata": {
  "kernelspec": {
   "display_name": "Python 3",
   "language": "python",
   "name": "python3"
  },
  "language_info": {
   "codemirror_mode": {
    "name": "ipython",
    "version": 3
   },
   "file_extension": ".py",
   "mimetype": "text/x-python",
   "name": "python",
   "nbconvert_exporter": "python",
   "pygments_lexer": "ipython3",
   "version": "3.7.9"
  }
 },
 "nbformat": 4,
 "nbformat_minor": 4
}
