{
 "cells": [
  {
   "cell_type": "code",
   "execution_count": 3,
   "metadata": {},
   "outputs": [],
   "source": [
    "def findindex(n,x):\n",
    "    l= len(n)\n",
    "    if l==0:\n",
    "        return -1\n",
    "    if n[0]==x:\n",
    "        return 0\n",
    "    smalllist = n[1:]\n",
    "    smalllistoutput = findindex(smalllist,x)\n",
    "    if smalllistoutput == -1:\n",
    "        return -1\n",
    "    else:\n",
    "        return smalllistoutput +1\n",
    "    #this one makes copies so not very optimal\n"
   ]
  },
  {
   "cell_type": "code",
   "execution_count": 6,
   "metadata": {},
   "outputs": [
    {
     "data": {
      "text/plain": [
       "7"
      ]
     },
     "execution_count": 6,
     "metadata": {},
     "output_type": "execute_result"
    }
   ],
   "source": [
    "findindex([1,3,3,4,5,6,7,77,77,8],77)"
   ]
  },
  {
   "cell_type": "code",
   "execution_count": null,
   "metadata": {},
   "outputs": [],
   "source": []
  }
 ],
 "metadata": {
  "kernelspec": {
   "display_name": "Python 3",
   "language": "python",
   "name": "python3"
  },
  "language_info": {
   "codemirror_mode": {
    "name": "ipython",
    "version": 3
   },
   "file_extension": ".py",
   "mimetype": "text/x-python",
   "name": "python",
   "nbconvert_exporter": "python",
   "pygments_lexer": "ipython3",
   "version": "3.7.9"
  }
 },
 "nbformat": 4,
 "nbformat_minor": 4
}
